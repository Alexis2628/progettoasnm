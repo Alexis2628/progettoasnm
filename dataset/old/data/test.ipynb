{
 "cells": [
  {
   "cell_type": "code",
   "execution_count": 14,
   "metadata": {},
   "outputs": [],
   "source": [
    "import json\n",
    "import pandas as pd\n",
    "df1 = pd.read_csv(\"post_data.csv\")\n",
    "df2 = pd.read_csv(\"replies_data.csv\")\n",
    "\n",
    "with open(\"output.json\", \"rb\") as f:\n",
    "    json_iniziale = json.load(f)"
   ]
  },
  {
   "cell_type": "code",
   "execution_count": 15,
   "metadata": {},
   "outputs": [],
   "source": [
    "import pandas as pd\n",
    "\n",
    "def aggiorna_json(json_iniziale, df1, df2,colonne_selezionate = ['Post ID','User ID','Thread Type','Username','Like Count','Caption Text']):\n",
    "    \"\"\"\n",
    "    Aggiorna un JSON con dati estratti da due dataframe basandosi sugli ID presenti nel JSON.\n",
    "\n",
    "    :param json_iniziale: Dict contenente i dati iniziali\n",
    "    :param df1: DataFrame con colonne ['Post ID', 'User ID', 'Thread Type', 'Username', 'Like Count', 'Caption Text']\n",
    "    :param df2: DataFrame con colonne ['Post ID', 'User ID', 'Thread Type', 'Username', 'Like Count', 'Caption Text']\n",
    "    :return: JSON aggiornato\n",
    "    \"\"\"\n",
    "    df1 = df1[colonne_selezionate]\n",
    "    df2 = df2[colonne_selezionate]   \n",
    "    \n",
    "    # Unione dei dataframe\n",
    "    df_totale = pd.concat([df1, df2])\n",
    "\n",
    "    # Funzione per trovare dati di un utente in base all'ID\n",
    "    def estrai_dati(user_id):\n",
    "        dati = df_totale[df_totale['User ID'] == int(user_id)]\n",
    "        if not dati.empty:\n",
    "            return dati.to_dict(orient='records')  # Ritorna una lista di dizionari\n",
    "        return []  # Se non ci sono dati\n",
    "\n",
    "    # Itera sugli ID principali nel JSON\n",
    "    for user_id, user_data in json_iniziale.items():\n",
    "        # Aggiungi i dati dell'utente esterno\n",
    "        json_iniziale[user_id]['user_data'] = estrai_dati(user_id)\n",
    "\n",
    "        # Itera sui follower\n",
    "        for follower in user_data.get('followers', []):\n",
    "            follower_id = follower['user_id']\n",
    "            follower['user_data'] = estrai_dati(follower_id)\n",
    "\n",
    "    return json_iniziale\n"
   ]
  },
  {
   "cell_type": "code",
   "execution_count": 16,
   "metadata": {},
   "outputs": [],
   "source": [
    "# Chiamata al metodo\n",
    "json_aggiornato = aggiorna_json(json_iniziale, df1, df2)"
   ]
  },
  {
   "cell_type": "code",
   "execution_count": 17,
   "metadata": {},
   "outputs": [],
   "source": [
    "with open(\"final_dataset.json\", \"w\", encoding=\"utf-8\") as f2:\n",
    "    json.dump(json_aggiornato, f2, ensure_ascii=False, indent=4)"
   ]
  }
 ],
 "metadata": {
  "kernelspec": {
   "display_name": "venv",
   "language": "python",
   "name": "python3"
  },
  "language_info": {
   "codemirror_mode": {
    "name": "ipython",
    "version": 3
   },
   "file_extension": ".py",
   "mimetype": "text/x-python",
   "name": "python",
   "nbconvert_exporter": "python",
   "pygments_lexer": "ipython3",
   "version": "3.11.0"
  }
 },
 "nbformat": 4,
 "nbformat_minor": 2
}

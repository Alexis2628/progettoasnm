{
 "cells": [
  {
   "cell_type": "code",
   "execution_count": 15,
   "metadata": {},
   "outputs": [],
   "source": [
    "import logging\n",
    "import pandas as pd\n",
    "import os\n",
    "import json\n",
    "import time\n",
    "import requests"
   ]
  },
  {
   "cell_type": "code",
   "execution_count": 16,
   "metadata": {},
   "outputs": [],
   "source": [
    "with open(\"session.txt\", \"r\") as f:\n",
    "    sessionid = f.read()"
   ]
  },
  {
   "cell_type": "code",
   "execution_count": 17,
   "metadata": {},
   "outputs": [],
   "source": [
    "headers_for_html_fetching = {\n",
    "            'Authority': 'www.threads.net',\n",
    "            'Accept': (\n",
    "                'text/html,application/xhtml+xml,application/xml;q=0.9,image/avif,image/webp,image/apng,*/*;'\n",
    "                'q=0.8,application/signed-exchange;v=b3;q=0.7'\n",
    "            ),\n",
    "            'Accept-Language': 'en-US,en;q=0.9',\n",
    "            'Cache-Control': 'no-cache',\n",
    "            'Content-Type': 'application/x-www-form-urlencoded',\n",
    "            'Origin': 'https://www.threads.net',\n",
    "            'Pragma': 'no-cache',\n",
    "            'Referer': 'https://www.instagram.com',\n",
    "            'Sec-Fetch-Dest': 'document',\n",
    "            'Sec-Fetch-Mode': 'navigate',\n",
    "            'Sec-Fetch-Site': 'cross-site',\n",
    "            'Sec-Fetch-User': '?1',\n",
    "            'Upgrade-Insecure-Requests': '1',\n",
    "            'User-Agent': (\n",
    "                'Mozilla/5.0 (Macintosh; Intel Mac OS X 10_13_6) '\n",
    "                'AppleWebKit/605.1.15 (KHTML, like Gecko) Version/11.1.2 Safari/605.1.15'\n",
    "            ),\n",
    "        }"
   ]
  },
  {
   "cell_type": "code",
   "execution_count": 18,
   "metadata": {},
   "outputs": [
    {
     "data": {
      "text/plain": [
       "'63074975810'"
      ]
     },
     "execution_count": 18,
     "metadata": {},
     "output_type": "execute_result"
    }
   ],
   "source": [
    "import re\n",
    "def get_threads_userpk(username:str):\n",
    "    cookies = {\n",
    "            \"sessionid\": sessionid\n",
    "    }\n",
    "    response = requests.get(\n",
    "                url=f'https://www.threads.net/@{username}',\n",
    "                headers=headers_for_html_fetching,\n",
    "                cookies=cookies\n",
    "            )\n",
    "    try:\n",
    "        if \"viewer does not follow private user\" in response.text:\n",
    "            return None\n",
    "        text = response.text\n",
    "        user_id_key_value = re.search('\"user_id\":\"(\\\\d+)\",', text).group()\n",
    "        user_id = re.search('\\\\d+', user_id_key_value).group()\n",
    "    except:\n",
    "        raise Exception()\n",
    "    return user_id\n",
    "\n",
    "get_threads_userpk(\"shelli1370\")"
   ]
  },
  {
   "cell_type": "code",
   "execution_count": 19,
   "metadata": {},
   "outputs": [],
   "source": [
    "from retrieve_data_by_query import RetrieveDataByQuery\n",
    "t = RetrieveDataByQuery(sessionid=sessionid)\n",
    "# t.retrieve_follower_by_userid_after(\"69655371289\",\"0\")"
   ]
  },
  {
   "cell_type": "code",
   "execution_count": 20,
   "metadata": {},
   "outputs": [],
   "source": [
    "\n",
    "def get_follower_data(data: list):\n",
    "    try:\n",
    "        return [\n",
    "            {\n",
    "                \"pk\": node.get(\"pk\", \"\"),\n",
    "                \"username\": node.get(\"username\", \"\"),\n",
    "                \"follower_count\": node.get(\"follower_count\", \"\")\n",
    "            }\n",
    "            for d in data\n",
    "            if (node := d.get(\"node\", {}))\n",
    "        ]\n",
    "    except Exception as e:\n",
    "        raise RuntimeError(f\"Errore durante l'elaborazione dei dati dei follower: {e}\")\n",
    "\n",
    "\n",
    "progress_tracker = {}\n",
    "filejson = \"progress2.json\"\n",
    "\n",
    "def save_progress(userid: str, batch_number: int, results: list):\n",
    "    \"\"\"Salva il batch_number corrente e i risultati ottenuti per un determinato userid.\"\"\"\n",
    "    progress_tracker[userid] = {\"batch_number\": batch_number, \"results\": results}\n",
    "    with open(filejson, \"w\") as f:\n",
    "        json.dump(progress_tracker, f)\n",
    "\n",
    "def load_progress(userid: str):\n",
    "    \"\"\"Carica il batch_number e i risultati salvati per un determinato userid.\"\"\"\n",
    "    try:\n",
    "        with open(filejson, \"r\") as f:\n",
    "            data = json.load(f)\n",
    "            return data.get(userid, {\"batch_number\": 1, \"results\": []})\n",
    "    except (FileNotFoundError, json.JSONDecodeError):\n",
    "        return {\"batch_number\": 1, \"results\": []}\n",
    "def remove_progress(userid: str):\n",
    "    \"\"\"Rimuove il progresso salvato per un determinato userid.\"\"\"\n",
    "    try:\n",
    "        with open(filejson, \"r\") as f:\n",
    "            data = json.load(f)\n",
    "        \n",
    "        if userid in data:\n",
    "            del data[userid]\n",
    "            with open(filejson, \"w\") as f:\n",
    "                json.dump(data, f)\n",
    "    except (FileNotFoundError, json.JSONDecodeError):\n",
    "        pass\n",
    "    \n",
    "def get_all_follower(userid: str):\n",
    "    progress = load_progress(userid)\n",
    "    batch_number = progress[\"batch_number\"]\n",
    "    results = progress[\"results\"]\n",
    "    allpk = [res[\"pk\"] for res in results]\n",
    "    try:\n",
    "        has_next_page = True\n",
    "        while has_next_page:\n",
    "            try:\n",
    "                print(\"Pagina:\", batch_number)\n",
    "                response = t.retrieve_follower_by_userid_after(userid, str(25 * batch_number-1))\n",
    "                batch_number += 1\n",
    "                data = response.get(\"data\", {}).get(\"fetch__XDTUserDict\", {}).get(\"followers\", {})\n",
    "                if data.get(\"edges\", []) == []:\n",
    "                    return [{\n",
    "                        \"pk\": userid,\n",
    "                        \"username\": None,\n",
    "                        \"follower_count\": None\n",
    "                    }]\n",
    "                d_out = get_follower_data(data.get(\"edges\", []))\n",
    "                for res in d_out:\n",
    "                    if res[\"pk\"] in allpk:\n",
    "                        remove_progress(userid)\n",
    "                        return results\n",
    "                    allpk.append(res[\"pk\"])\n",
    "                results.extend(d_out)\n",
    "                \n",
    "                has_next_page = data.get(\"page_info\", {}).get(\"has_next_page\", False)\n",
    "                \n",
    "                # Salva il progresso dopo ogni batch\n",
    "                save_progress(userid, batch_number, results)\n",
    "                \n",
    "            except Exception as e:\n",
    "                save_progress(userid, batch_number, results)  # Salva il batch e i risultati in caso di errore\n",
    "                raise RuntimeError(f\"Errore nel recupero della paginazione dei follower: {e}\")\n",
    "    \n",
    "    except Exception as e:\n",
    "        save_progress(userid, batch_number, results)  # Salva il batch e i risultati in caso di errore generale\n",
    "        raise RuntimeError(f\"Errore generale nel recupero dei follower per l'utente {userid}: {e}\")\n",
    "    remove_progress(userid)\n",
    "    return results"
   ]
  },
  {
   "cell_type": "code",
   "execution_count": null,
   "metadata": {},
   "outputs": [
    {
     "data": {
      "text/plain": [
       "1628"
      ]
     },
     "execution_count": 21,
     "metadata": {},
     "output_type": "execute_result"
    }
   ],
   "source": [
    "df = pd.read_csv(\"fol2.csv\")\n",
    "df['follower_pk'] = df['follower_pk'].astype(str)\n",
    "unique_user_pk = df['follower_pk'].unique()\n",
    "len(unique_user_pk)"
   ]
  },
  {
   "cell_type": "code",
   "execution_count": 22,
   "metadata": {},
   "outputs": [
    {
     "data": {
      "text/html": [
       "<div>\n",
       "<style scoped>\n",
       "    .dataframe tbody tr th:only-of-type {\n",
       "        vertical-align: middle;\n",
       "    }\n",
       "\n",
       "    .dataframe tbody tr th {\n",
       "        vertical-align: top;\n",
       "    }\n",
       "\n",
       "    .dataframe thead th {\n",
       "        text-align: right;\n",
       "    }\n",
       "</style>\n",
       "<table border=\"1\" class=\"dataframe\">\n",
       "  <thead>\n",
       "    <tr style=\"text-align: right;\">\n",
       "      <th></th>\n",
       "      <th>user_pk</th>\n",
       "      <th>follower_pk</th>\n",
       "      <th>follower_username</th>\n",
       "      <th>follower_count</th>\n",
       "    </tr>\n",
       "  </thead>\n",
       "  <tbody>\n",
       "    <tr>\n",
       "      <th>0</th>\n",
       "      <td>64525247485</td>\n",
       "      <td>4529033111</td>\n",
       "      <td>mbahareth</td>\n",
       "      <td>184965</td>\n",
       "    </tr>\n",
       "  </tbody>\n",
       "</table>\n",
       "</div>"
      ],
      "text/plain": [
       "       user_pk  follower_pk follower_username  follower_count\n",
       "0  64525247485   4529033111         mbahareth          184965"
      ]
     },
     "execution_count": 22,
     "metadata": {},
     "output_type": "execute_result"
    }
   ],
   "source": [
    "dff = pd.read_csv(\"followers_MachineLearning.csv\")\n",
    "dff.head(1)"
   ]
  },
  {
   "cell_type": "code",
   "execution_count": null,
   "metadata": {},
   "outputs": [],
   "source": [
    "def load_processed_users(file_path):\n",
    "    if os.path.exists(file_path):\n",
    "        logging.info(f\"Loading processed users from {file_path}\")\n",
    "        df = pd.read_csv(file_path)\n",
    "        df['user_pk'] = df['user_pk'].astype(str)\n",
    "        return set(df['user_pk'].tolist())\n",
    "    return set()\n",
    "\n",
    "def save_to_csv(df, file_path):\n",
    "    try:\n",
    "        if os.path.exists(file_path):\n",
    "            df.to_csv(file_path, mode='a', header=False, index=False)\n",
    "        else:\n",
    "            df.to_csv(file_path, index=False)\n",
    "        logging.info(f\"Saved {len(df)} records to {file_path}\")\n",
    "    except Exception as e:\n",
    "        logging.error(f\"Error saving data to {file_path}: {e}\")\n",
    "        \n",
    "csv_file = \"ffML2.csv\"\n",
    "processed_users = load_processed_users(csv_file)"
   ]
  },
  {
   "cell_type": "code",
   "execution_count": 24,
   "metadata": {},
   "outputs": [
    {
     "data": {
      "text/plain": [
       "0"
      ]
     },
     "execution_count": 24,
     "metadata": {},
     "output_type": "execute_result"
    }
   ],
   "source": [
    "len(processed_users)"
   ]
  },
  {
   "cell_type": "code",
   "execution_count": 25,
   "metadata": {},
   "outputs": [
    {
     "name": "stdout",
     "output_type": "stream",
     "text": [
      "1628\n",
      "1628\n"
     ]
    }
   ],
   "source": [
    "print(len(unique_user_pk))\n",
    "unique_user_pk = unique_user_pk[unique_user_pk != \"339473819\"]\n",
    "\n",
    "print(len(unique_user_pk))"
   ]
  },
  {
   "cell_type": "code",
   "execution_count": null,
   "metadata": {},
   "outputs": [],
   "source": [
    "def fetch_followers(pk,user_pk):\n",
    "    print(f\"Fetching followers for user_pk: {pk}\")\n",
    "    try:\n",
    "        follower_data = get_all_follower(pk)\n",
    "        return [\n",
    "            {\n",
    "                \"user_pk\": user_pk,\n",
    "                \"follower_pk\": follower[\"pk\"],\n",
    "                \"follower_username\": follower[\"username\"],\n",
    "                \"follower_count\": follower[\"follower_count\"],\n",
    "                \"user_threads_userpk\": pk\n",
    "            }\n",
    "            for follower in follower_data\n",
    "        ]\n",
    "    except Exception as e:\n",
    "        logging.error(f\"Error fetching followers for {pk}: {e}\")\n",
    "        return None\n",
    "\n",
    "follower_list = []\n",
    "batch_size = 1\n",
    "\n",
    "\n",
    "print(\"Starting follower data collection\")\n",
    "for user_pk in unique_user_pk:\n",
    "    if user_pk in processed_users:\n",
    "        print(f\"Skipping already processed user_pk: {user_pk}\")\n",
    "        continue\n",
    "    processed_users.update([user_pk])\n",
    "    username= dff[dff[\"follower_pk\"] == int(user_pk)][\"follower_username\"].unique()[0]\n",
    "    print(user_pk, username)\n",
    "    threads_user_pk = get_threads_userpk(str(username))\n",
    "    if threads_user_pk is None:\n",
    "        follower_list.extend([{\n",
    "                \"user_pk\": user_pk,\n",
    "                \"follower_pk\": None,\n",
    "                \"follower_username\": None,\n",
    "                \"follower_count\": None,\n",
    "                \"user_threads_userpk\": None\n",
    "        }])\n",
    "        continue\n",
    "    results = fetch_followers(threads_user_pk,user_pk)\n",
    "    if results is None:\n",
    "        break\n",
    "    follower_list.extend(results)\n",
    "    \n",
    "    if follower_list:\n",
    "        print(f\"Processing batch of {len(follower_list)} followers\")\n",
    "        follower_df = pd.DataFrame(follower_list)\n",
    "        save_to_csv(follower_df, csv_file)\n",
    "        follower_list = []\n",
    "\n",
    "if follower_list:\n",
    "    print(f\"Saving remaining {len(follower_list)} followers\")\n",
    "    follower_df = pd.DataFrame(follower_list)   \n",
    "    save_to_csv(follower_df, csv_file)\n",
    "\n",
    "print(\"Follower data collection completed\")\n"
   ]
  },
  {
   "cell_type": "code",
   "execution_count": 27,
   "metadata": {},
   "outputs": [
    {
     "name": "stdout",
     "output_type": "stream",
     "text": [
      "(1, 4)\n"
     ]
    },
    {
     "data": {
      "text/html": [
       "<div>\n",
       "<style scoped>\n",
       "    .dataframe tbody tr th:only-of-type {\n",
       "        vertical-align: middle;\n",
       "    }\n",
       "\n",
       "    .dataframe tbody tr th {\n",
       "        vertical-align: top;\n",
       "    }\n",
       "\n",
       "    .dataframe thead th {\n",
       "        text-align: right;\n",
       "    }\n",
       "</style>\n",
       "<table border=\"1\" class=\"dataframe\">\n",
       "  <thead>\n",
       "    <tr style=\"text-align: right;\">\n",
       "      <th></th>\n",
       "      <th>follower_pk</th>\n",
       "      <th>follower_username</th>\n",
       "      <th>follower_count</th>\n",
       "      <th>user_threads_userpk</th>\n",
       "    </tr>\n",
       "    <tr>\n",
       "      <th>user_pk</th>\n",
       "      <th></th>\n",
       "      <th></th>\n",
       "      <th></th>\n",
       "      <th></th>\n",
       "    </tr>\n",
       "  </thead>\n",
       "  <tbody>\n",
       "    <tr>\n",
       "      <th>4529033111</th>\n",
       "      <td>49</td>\n",
       "      <td>49</td>\n",
       "      <td>49</td>\n",
       "      <td>49</td>\n",
       "    </tr>\n",
       "  </tbody>\n",
       "</table>\n",
       "</div>"
      ],
      "text/plain": [
       "            follower_pk  follower_username  follower_count  \\\n",
       "user_pk                                                      \n",
       "4529033111           49                 49              49   \n",
       "\n",
       "            user_threads_userpk  \n",
       "user_pk                          \n",
       "4529033111                   49  "
      ]
     },
     "execution_count": 27,
     "metadata": {},
     "output_type": "execute_result"
    }
   ],
   "source": [
    "df1 = pd.read_csv(csv_file)\n",
    "df_count= df1.drop_duplicates().groupby(\"user_pk\").count()\n",
    "print(df_count.shape)\n",
    "df_count"
   ]
  }
 ],
 "metadata": {
  "kernelspec": {
   "display_name": "Python 3",
   "language": "python",
   "name": "python3"
  },
  "language_info": {
   "codemirror_mode": {
    "name": "ipython",
    "version": 3
   },
   "file_extension": ".py",
   "mimetype": "text/x-python",
   "name": "python",
   "nbconvert_exporter": "python",
   "pygments_lexer": "ipython3",
   "version": "3.12.7"
  }
 },
 "nbformat": 4,
 "nbformat_minor": 2
}

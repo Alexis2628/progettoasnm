{
 "cells": [
  {
   "cell_type": "code",
   "execution_count": 2,
   "metadata": {},
   "outputs": [],
   "source": [
    "import pandas as pd"
   ]
  },
  {
   "cell_type": "markdown",
   "metadata": {},
   "source": [
    "# post iniziali"
   ]
  },
  {
   "cell_type": "code",
   "execution_count": 12,
   "metadata": {},
   "outputs": [
    {
     "data": {
      "text/plain": [
       "30"
      ]
     },
     "execution_count": 12,
     "metadata": {},
     "output_type": "execute_result"
    }
   ],
   "source": [
    "df_post = pd.read_csv(\"data_Artificial_Intelligence.csv\").head(30)\n",
    "df_post.to_csv(\"reduce/data_Artificial_Intelligence.csv\")\n",
    "user_df_post = df_post[\"user_pk\"].unique()\n",
    "len(user_df_post)"
   ]
  },
  {
   "cell_type": "code",
   "execution_count": 40,
   "metadata": {},
   "outputs": [],
   "source": [
    "df_post2= pd.read_csv(\"post_Artificial_Intelligence.csv\")\n"
   ]
  },
  {
   "cell_type": "code",
   "execution_count": 41,
   "metadata": {},
   "outputs": [
    {
     "data": {
      "text/plain": [
       "30"
      ]
     },
     "execution_count": 41,
     "metadata": {},
     "output_type": "execute_result"
    }
   ],
   "source": [
    "userpost = list(user_df_post)\n",
    "len(userpost)"
   ]
  },
  {
   "cell_type": "code",
   "execution_count": 42,
   "metadata": {},
   "outputs": [],
   "source": [
    "users = userpost+follower_user"
   ]
  },
  {
   "cell_type": "code",
   "execution_count": 44,
   "metadata": {},
   "outputs": [],
   "source": [
    "df_post2 = df_post2[df_post2[\"user_pk\"].isin(users)]\n",
    "df_post2.to_csv(\"reduce/post_Artificial_Intelligence.csv\")"
   ]
  },
  {
   "cell_type": "code",
   "execution_count": 16,
   "metadata": {},
   "outputs": [
    {
     "data": {
      "text/plain": [
       "(1189, 10)"
      ]
     },
     "execution_count": 16,
     "metadata": {},
     "output_type": "execute_result"
    }
   ],
   "source": [
    "df_post2.shape"
   ]
  },
  {
   "cell_type": "code",
   "execution_count": 10,
   "metadata": {},
   "outputs": [
    {
     "data": {
      "text/html": [
       "<div>\n",
       "<style scoped>\n",
       "    .dataframe tbody tr th:only-of-type {\n",
       "        vertical-align: middle;\n",
       "    }\n",
       "\n",
       "    .dataframe tbody tr th {\n",
       "        vertical-align: top;\n",
       "    }\n",
       "\n",
       "    .dataframe thead th {\n",
       "        text-align: right;\n",
       "    }\n",
       "</style>\n",
       "<table border=\"1\" class=\"dataframe\">\n",
       "  <thead>\n",
       "    <tr style=\"text-align: right;\">\n",
       "      <th></th>\n",
       "      <th>Unnamed: 0</th>\n",
       "      <th>user_pk</th>\n",
       "      <th>follower_pk</th>\n",
       "      <th>follower_username</th>\n",
       "      <th>follower_count</th>\n",
       "    </tr>\n",
       "  </thead>\n",
       "  <tbody>\n",
       "    <tr>\n",
       "      <th>0</th>\n",
       "      <td>0</td>\n",
       "      <td>187264532</td>\n",
       "      <td>1451797369</td>\n",
       "      <td>stacidblack</td>\n",
       "      <td>114</td>\n",
       "    </tr>\n",
       "    <tr>\n",
       "      <th>1</th>\n",
       "      <td>1</td>\n",
       "      <td>187264532</td>\n",
       "      <td>2384555054</td>\n",
       "      <td>leotw4552</td>\n",
       "      <td>12</td>\n",
       "    </tr>\n",
       "    <tr>\n",
       "      <th>2</th>\n",
       "      <td>2</td>\n",
       "      <td>187264532</td>\n",
       "      <td>17096723</td>\n",
       "      <td>homeecmel</td>\n",
       "      <td>772</td>\n",
       "    </tr>\n",
       "    <tr>\n",
       "      <th>3</th>\n",
       "      <td>3</td>\n",
       "      <td>187264532</td>\n",
       "      <td>55856570272</td>\n",
       "      <td>handmade_market_ks</td>\n",
       "      <td>114</td>\n",
       "    </tr>\n",
       "    <tr>\n",
       "      <th>4</th>\n",
       "      <td>4</td>\n",
       "      <td>187264532</td>\n",
       "      <td>33147008532</td>\n",
       "      <td>l0dservices</td>\n",
       "      <td>241</td>\n",
       "    </tr>\n",
       "    <tr>\n",
       "      <th>...</th>\n",
       "      <td>...</td>\n",
       "      <td>...</td>\n",
       "      <td>...</td>\n",
       "      <td>...</td>\n",
       "      <td>...</td>\n",
       "    </tr>\n",
       "    <tr>\n",
       "      <th>312422</th>\n",
       "      <td>51739</td>\n",
       "      <td>1132797869</td>\n",
       "      <td>60634756169</td>\n",
       "      <td>h_al3wny</td>\n",
       "      <td>10</td>\n",
       "    </tr>\n",
       "    <tr>\n",
       "      <th>312423</th>\n",
       "      <td>51740</td>\n",
       "      <td>1132797869</td>\n",
       "      <td>2390907696</td>\n",
       "      <td>rehabelshenety</td>\n",
       "      <td>22</td>\n",
       "    </tr>\n",
       "    <tr>\n",
       "      <th>312424</th>\n",
       "      <td>51741</td>\n",
       "      <td>1132797869</td>\n",
       "      <td>6014094538</td>\n",
       "      <td>lts9082</td>\n",
       "      <td>41</td>\n",
       "    </tr>\n",
       "    <tr>\n",
       "      <th>312425</th>\n",
       "      <td>51742</td>\n",
       "      <td>1132797869</td>\n",
       "      <td>34838376</td>\n",
       "      <td>sally.abu_emira</td>\n",
       "      <td>110</td>\n",
       "    </tr>\n",
       "    <tr>\n",
       "      <th>312426</th>\n",
       "      <td>51743</td>\n",
       "      <td>1132797869</td>\n",
       "      <td>219242663</td>\n",
       "      <td>jhhaissam</td>\n",
       "      <td>31</td>\n",
       "    </tr>\n",
       "  </tbody>\n",
       "</table>\n",
       "<p>312427 rows × 5 columns</p>\n",
       "</div>"
      ],
      "text/plain": [
       "        Unnamed: 0     user_pk  follower_pk   follower_username  \\\n",
       "0                0   187264532   1451797369         stacidblack   \n",
       "1                1   187264532   2384555054           leotw4552   \n",
       "2                2   187264532     17096723           homeecmel   \n",
       "3                3   187264532  55856570272  handmade_market_ks   \n",
       "4                4   187264532  33147008532         l0dservices   \n",
       "...            ...         ...          ...                 ...   \n",
       "312422       51739  1132797869  60634756169            h_al3wny   \n",
       "312423       51740  1132797869   2390907696      rehabelshenety   \n",
       "312424       51741  1132797869   6014094538             lts9082   \n",
       "312425       51742  1132797869     34838376     sally.abu_emira   \n",
       "312426       51743  1132797869    219242663           jhhaissam   \n",
       "\n",
       "        follower_count  \n",
       "0                  114  \n",
       "1                   12  \n",
       "2                  772  \n",
       "3                  114  \n",
       "4                  241  \n",
       "...                ...  \n",
       "312422              10  \n",
       "312423              22  \n",
       "312424              41  \n",
       "312425             110  \n",
       "312426              31  \n",
       "\n",
       "[312427 rows x 5 columns]"
      ]
     },
     "execution_count": 10,
     "metadata": {},
     "output_type": "execute_result"
    }
   ],
   "source": [
    "df_postf= pd.read_csv(\"followers_Artificial_Intelligence.csv\")\n",
    "df_postf"
   ]
  },
  {
   "cell_type": "code",
   "execution_count": 13,
   "metadata": {},
   "outputs": [],
   "source": [
    "\n",
    "df_postf = df_postf[df_postf[\"user_pk\"].isin(user_df_post)]\n",
    "df_postf.to_csv(\"reduce/followers_Artificial_Intelligence.csv\")"
   ]
  },
  {
   "cell_type": "code",
   "execution_count": 24,
   "metadata": {},
   "outputs": [
    {
     "data": {
      "text/plain": [
       "15571"
      ]
     },
     "execution_count": 24,
     "metadata": {},
     "output_type": "execute_result"
    }
   ],
   "source": [
    "follower_user = list(df_postf[\"follower_pk\"].unique())\n",
    "len(follower_user)"
   ]
  },
  {
   "cell_type": "code",
   "execution_count": 14,
   "metadata": {},
   "outputs": [],
   "source": [
    "df1 = pd.read_csv(\"followers_Artificial_Intelligence.csv\")"
   ]
  },
  {
   "cell_type": "code",
   "execution_count": null,
   "metadata": {},
   "outputs": [],
   "source": []
  },
  {
   "cell_type": "code",
   "execution_count": 54,
   "metadata": {},
   "outputs": [
    {
     "data": {
      "text/html": [
       "<div>\n",
       "<style scoped>\n",
       "    .dataframe tbody tr th:only-of-type {\n",
       "        vertical-align: middle;\n",
       "    }\n",
       "\n",
       "    .dataframe tbody tr th {\n",
       "        vertical-align: top;\n",
       "    }\n",
       "\n",
       "    .dataframe thead th {\n",
       "        text-align: right;\n",
       "    }\n",
       "</style>\n",
       "<table border=\"1\" class=\"dataframe\">\n",
       "  <thead>\n",
       "    <tr style=\"text-align: right;\">\n",
       "      <th></th>\n",
       "      <th>user_pk</th>\n",
       "      <th>follower_pk</th>\n",
       "      <th>follower_username</th>\n",
       "      <th>follower_count</th>\n",
       "    </tr>\n",
       "  </thead>\n",
       "  <tbody>\n",
       "    <tr>\n",
       "      <th>0</th>\n",
       "      <td>187264532</td>\n",
       "      <td>1451797369</td>\n",
       "      <td>stacidblack</td>\n",
       "      <td>114</td>\n",
       "    </tr>\n",
       "    <tr>\n",
       "      <th>1</th>\n",
       "      <td>187264532</td>\n",
       "      <td>2384555054</td>\n",
       "      <td>leotw4552</td>\n",
       "      <td>12</td>\n",
       "    </tr>\n",
       "    <tr>\n",
       "      <th>2</th>\n",
       "      <td>187264532</td>\n",
       "      <td>17096723</td>\n",
       "      <td>homeecmel</td>\n",
       "      <td>772</td>\n",
       "    </tr>\n",
       "    <tr>\n",
       "      <th>3</th>\n",
       "      <td>187264532</td>\n",
       "      <td>55856570272</td>\n",
       "      <td>handmade_market_ks</td>\n",
       "      <td>114</td>\n",
       "    </tr>\n",
       "    <tr>\n",
       "      <th>4</th>\n",
       "      <td>187264532</td>\n",
       "      <td>33147008532</td>\n",
       "      <td>l0dservices</td>\n",
       "      <td>241</td>\n",
       "    </tr>\n",
       "    <tr>\n",
       "      <th>...</th>\n",
       "      <td>...</td>\n",
       "      <td>...</td>\n",
       "      <td>...</td>\n",
       "      <td>...</td>\n",
       "    </tr>\n",
       "    <tr>\n",
       "      <th>312422</th>\n",
       "      <td>1132797869</td>\n",
       "      <td>60634756169</td>\n",
       "      <td>h_al3wny</td>\n",
       "      <td>10</td>\n",
       "    </tr>\n",
       "    <tr>\n",
       "      <th>312423</th>\n",
       "      <td>1132797869</td>\n",
       "      <td>2390907696</td>\n",
       "      <td>rehabelshenety</td>\n",
       "      <td>22</td>\n",
       "    </tr>\n",
       "    <tr>\n",
       "      <th>312424</th>\n",
       "      <td>1132797869</td>\n",
       "      <td>6014094538</td>\n",
       "      <td>lts9082</td>\n",
       "      <td>41</td>\n",
       "    </tr>\n",
       "    <tr>\n",
       "      <th>312425</th>\n",
       "      <td>1132797869</td>\n",
       "      <td>34838376</td>\n",
       "      <td>sally.abu_emira</td>\n",
       "      <td>110</td>\n",
       "    </tr>\n",
       "    <tr>\n",
       "      <th>312426</th>\n",
       "      <td>1132797869</td>\n",
       "      <td>219242663</td>\n",
       "      <td>jhhaissam</td>\n",
       "      <td>31</td>\n",
       "    </tr>\n",
       "  </tbody>\n",
       "</table>\n",
       "<p>312427 rows × 4 columns</p>\n",
       "</div>"
      ],
      "text/plain": [
       "           user_pk  follower_pk   follower_username  follower_count\n",
       "0        187264532   1451797369         stacidblack             114\n",
       "1        187264532   2384555054           leotw4552              12\n",
       "2        187264532     17096723           homeecmel             772\n",
       "3        187264532  55856570272  handmade_market_ks             114\n",
       "4        187264532  33147008532         l0dservices             241\n",
       "...            ...          ...                 ...             ...\n",
       "312422  1132797869  60634756169            h_al3wny              10\n",
       "312423  1132797869   2390907696      rehabelshenety              22\n",
       "312424  1132797869   6014094538             lts9082              41\n",
       "312425  1132797869     34838376     sally.abu_emira             110\n",
       "312426  1132797869    219242663           jhhaissam              31\n",
       "\n",
       "[312427 rows x 4 columns]"
      ]
     },
     "execution_count": 54,
     "metadata": {},
     "output_type": "execute_result"
    }
   ],
   "source": [
    "df1.drop(\"Unnamed: 0\",axis=1,inplace=True)\n",
    "df1"
   ]
  },
  {
   "cell_type": "code",
   "execution_count": 5,
   "metadata": {},
   "outputs": [
    {
     "data": {
      "text/plain": [
       "868"
      ]
     },
     "execution_count": 5,
     "metadata": {},
     "output_type": "execute_result"
    }
   ],
   "source": [
    "df1 = df1[df1[\"follower_count\"]!=0]\n",
    "len(df1[\"user_pk\"].unique())"
   ]
  },
  {
   "cell_type": "code",
   "execution_count": 6,
   "metadata": {},
   "outputs": [
    {
     "data": {
      "text/plain": [
       "20"
      ]
     },
     "execution_count": 6,
     "metadata": {},
     "output_type": "execute_result"
    }
   ],
   "source": [
    "df2 = df1.groupby(\"user_pk\")[\"follower_pk\"].apply(list).reset_index()\n",
    "df2[\"follower_count\"] = df2[\"follower_pk\"].str.len()\n",
    "df2 = df2.sort_values(\"follower_count\", ascending=False)\n",
    "# df_nuovo = df2[df2[\"follower_count\"] > 150]\n",
    "users  = df2[\"user_pk\"][60:80]\n",
    "len(users)"
   ]
  },
  {
   "cell_type": "code",
   "execution_count": 7,
   "metadata": {},
   "outputs": [
    {
     "data": {
      "text/plain": [
       "23446"
      ]
     },
     "execution_count": 7,
     "metadata": {},
     "output_type": "execute_result"
    }
   ],
   "source": [
    "dff = df1[df1[\"user_pk\"].isin(users)]\n",
    "len(dff[\"follower_pk\"].unique())"
   ]
  },
  {
   "cell_type": "code",
   "execution_count": 128,
   "metadata": {},
   "outputs": [
    {
     "data": {
      "text/plain": [
       "161022"
      ]
     },
     "execution_count": 128,
     "metadata": {},
     "output_type": "execute_result"
    }
   ],
   "source": [
    "dff2 = dff.groupby(\"user_pk\")[\"follower_pk\"].apply(list).reset_index()\n",
    "dff2[\"follower_count\"] = dff2[\"follower_pk\"].str.len()\n",
    "dff2[\"follower_count\"].sum()"
   ]
  },
  {
   "cell_type": "code",
   "execution_count": 34,
   "metadata": {},
   "outputs": [
    {
     "data": {
      "text/html": [
       "<div>\n",
       "<style scoped>\n",
       "    .dataframe tbody tr th:only-of-type {\n",
       "        vertical-align: middle;\n",
       "    }\n",
       "\n",
       "    .dataframe tbody tr th {\n",
       "        vertical-align: top;\n",
       "    }\n",
       "\n",
       "    .dataframe thead th {\n",
       "        text-align: right;\n",
       "    }\n",
       "</style>\n",
       "<table border=\"1\" class=\"dataframe\">\n",
       "  <thead>\n",
       "    <tr style=\"text-align: right;\">\n",
       "      <th></th>\n",
       "      <th>pk</th>\n",
       "      <th>user_pk</th>\n",
       "      <th>caption</th>\n",
       "      <th>like_count</th>\n",
       "      <th>taken_at</th>\n",
       "    </tr>\n",
       "  </thead>\n",
       "  <tbody>\n",
       "    <tr>\n",
       "      <th>0</th>\n",
       "      <td>3555273435077793954</td>\n",
       "      <td>187264532</td>\n",
       "      <td>My son has a good point.\\r\\nWhy are we calling...</td>\n",
       "      <td>107</td>\n",
       "      <td>1738041642</td>\n",
       "    </tr>\n",
       "    <tr>\n",
       "      <th>1</th>\n",
       "      <td>3505685618218888600</td>\n",
       "      <td>39643192594</td>\n",
       "      <td>I'm a data scientist with (almost) 4 years of ...</td>\n",
       "      <td>1018</td>\n",
       "      <td>1732130313</td>\n",
       "    </tr>\n",
       "    <tr>\n",
       "      <th>2</th>\n",
       "      <td>3549657636672820072</td>\n",
       "      <td>3312160968</td>\n",
       "      <td>Unto the next ⚜️🚀\\r\\n\\r\\nMSc. Artificial Intel...</td>\n",
       "      <td>1474</td>\n",
       "      <td>1737372186</td>\n",
       "    </tr>\n",
       "    <tr>\n",
       "      <th>3</th>\n",
       "      <td>3501933029318498859</td>\n",
       "      <td>623659295</td>\n",
       "      <td>I’m tryna be Ms. 4 degrees!\\r\\n\\r\\nBS In Manag...</td>\n",
       "      <td>1203</td>\n",
       "      <td>1731682970</td>\n",
       "    </tr>\n",
       "    <tr>\n",
       "      <th>4</th>\n",
       "      <td>3485889418840696337</td>\n",
       "      <td>6018955246</td>\n",
       "      <td>I’m not AI, artificial intelligence.\\r\\nMy rea...</td>\n",
       "      <td>1396</td>\n",
       "      <td>1729770422</td>\n",
       "    </tr>\n",
       "    <tr>\n",
       "      <th>...</th>\n",
       "      <td>...</td>\n",
       "      <td>...</td>\n",
       "      <td>...</td>\n",
       "      <td>...</td>\n",
       "      <td>...</td>\n",
       "    </tr>\n",
       "    <tr>\n",
       "      <th>1347</th>\n",
       "      <td>3496625461751951430</td>\n",
       "      <td>1310009120</td>\n",
       "      <td>\"Words\" cannot prove the truth\\r\\n\\r\\nBecause ...</td>\n",
       "      <td>1561</td>\n",
       "      <td>1731050258</td>\n",
       "    </tr>\n",
       "    <tr>\n",
       "      <th>1348</th>\n",
       "      <td>3551325621272019983</td>\n",
       "      <td>65788500587</td>\n",
       "      <td>What is the first thing you do?\\r\\nIf I (Elon ...</td>\n",
       "      <td>508</td>\n",
       "      <td>1737571026</td>\n",
       "    </tr>\n",
       "    <tr>\n",
       "      <th>1349</th>\n",
       "      <td>3554036985625270589</td>\n",
       "      <td>1603271993</td>\n",
       "      <td>Glad to help dolphins asking for help ai gener...</td>\n",
       "      <td>19246</td>\n",
       "      <td>1737894247</td>\n",
       "    </tr>\n",
       "    <tr>\n",
       "      <th>1350</th>\n",
       "      <td>3475106775424524412</td>\n",
       "      <td>1905741597</td>\n",
       "      <td>This isn’t Grok. \\r\\n\\r\\nThis isn’t artificial...</td>\n",
       "      <td>912</td>\n",
       "      <td>1728485031</td>\n",
       "    </tr>\n",
       "    <tr>\n",
       "      <th>1351</th>\n",
       "      <td>3543070812064669160</td>\n",
       "      <td>1132797869</td>\n",
       "      <td>الذكاء الاصطناعي يتطور بشكل متسارع ومرعب \\r\\n\\...</td>\n",
       "      <td>1358</td>\n",
       "      <td>1736586986</td>\n",
       "    </tr>\n",
       "  </tbody>\n",
       "</table>\n",
       "<p>1352 rows × 5 columns</p>\n",
       "</div>"
      ],
      "text/plain": [
       "                       pk      user_pk  \\\n",
       "0     3555273435077793954    187264532   \n",
       "1     3505685618218888600  39643192594   \n",
       "2     3549657636672820072   3312160968   \n",
       "3     3501933029318498859    623659295   \n",
       "4     3485889418840696337   6018955246   \n",
       "...                   ...          ...   \n",
       "1347  3496625461751951430   1310009120   \n",
       "1348  3551325621272019983  65788500587   \n",
       "1349  3554036985625270589   1603271993   \n",
       "1350  3475106775424524412   1905741597   \n",
       "1351  3543070812064669160   1132797869   \n",
       "\n",
       "                                                caption  like_count  \\\n",
       "0     My son has a good point.\\r\\nWhy are we calling...         107   \n",
       "1     I'm a data scientist with (almost) 4 years of ...        1018   \n",
       "2     Unto the next ⚜️🚀\\r\\n\\r\\nMSc. Artificial Intel...        1474   \n",
       "3     I’m tryna be Ms. 4 degrees!\\r\\n\\r\\nBS In Manag...        1203   \n",
       "4     I’m not AI, artificial intelligence.\\r\\nMy rea...        1396   \n",
       "...                                                 ...         ...   \n",
       "1347  \"Words\" cannot prove the truth\\r\\n\\r\\nBecause ...        1561   \n",
       "1348  What is the first thing you do?\\r\\nIf I (Elon ...         508   \n",
       "1349  Glad to help dolphins asking for help ai gener...       19246   \n",
       "1350  This isn’t Grok. \\r\\n\\r\\nThis isn’t artificial...         912   \n",
       "1351  الذكاء الاصطناعي يتطور بشكل متسارع ومرعب \\r\\n\\...        1358   \n",
       "\n",
       "        taken_at  \n",
       "0     1738041642  \n",
       "1     1732130313  \n",
       "2     1737372186  \n",
       "3     1731682970  \n",
       "4     1729770422  \n",
       "...          ...  \n",
       "1347  1731050258  \n",
       "1348  1737571026  \n",
       "1349  1737894247  \n",
       "1350  1728485031  \n",
       "1351  1736586986  \n",
       "\n",
       "[1352 rows x 5 columns]"
      ]
     },
     "execution_count": 34,
     "metadata": {},
     "output_type": "execute_result"
    }
   ],
   "source": [
    "dfdati = pd.read_csv(\"data_Artificial_Intelligence.csv\").drop_duplicates()\n",
    "dfdati"
   ]
  },
  {
   "cell_type": "code",
   "execution_count": 36,
   "metadata": {},
   "outputs": [
    {
     "data": {
      "text/html": [
       "<div>\n",
       "<style scoped>\n",
       "    .dataframe tbody tr th:only-of-type {\n",
       "        vertical-align: middle;\n",
       "    }\n",
       "\n",
       "    .dataframe tbody tr th {\n",
       "        vertical-align: top;\n",
       "    }\n",
       "\n",
       "    .dataframe thead th {\n",
       "        text-align: right;\n",
       "    }\n",
       "</style>\n",
       "<table border=\"1\" class=\"dataframe\">\n",
       "  <thead>\n",
       "    <tr style=\"text-align: right;\">\n",
       "      <th></th>\n",
       "      <th>pk</th>\n",
       "      <th>user_pk</th>\n",
       "      <th>caption</th>\n",
       "      <th>like_count</th>\n",
       "      <th>taken_at</th>\n",
       "    </tr>\n",
       "  </thead>\n",
       "  <tbody>\n",
       "    <tr>\n",
       "      <th>0</th>\n",
       "      <td>3555273435077793954</td>\n",
       "      <td>187264532</td>\n",
       "      <td>My son has a good point.\\r\\nWhy are we calling...</td>\n",
       "      <td>107</td>\n",
       "      <td>1738041642</td>\n",
       "    </tr>\n",
       "    <tr>\n",
       "      <th>2</th>\n",
       "      <td>3549657636672820072</td>\n",
       "      <td>3312160968</td>\n",
       "      <td>Unto the next ⚜️🚀\\r\\n\\r\\nMSc. Artificial Intel...</td>\n",
       "      <td>1474</td>\n",
       "      <td>1737372186</td>\n",
       "    </tr>\n",
       "    <tr>\n",
       "      <th>3</th>\n",
       "      <td>3501933029318498859</td>\n",
       "      <td>623659295</td>\n",
       "      <td>I’m tryna be Ms. 4 degrees!\\r\\n\\r\\nBS In Manag...</td>\n",
       "      <td>1203</td>\n",
       "      <td>1731682970</td>\n",
       "    </tr>\n",
       "    <tr>\n",
       "      <th>4</th>\n",
       "      <td>3485889418840696337</td>\n",
       "      <td>6018955246</td>\n",
       "      <td>I’m not AI, artificial intelligence.\\r\\nMy rea...</td>\n",
       "      <td>1396</td>\n",
       "      <td>1729770422</td>\n",
       "    </tr>\n",
       "    <tr>\n",
       "      <th>5</th>\n",
       "      <td>3551894091232159864</td>\n",
       "      <td>71440324623</td>\n",
       "      <td>I’ve never used artificial intelligence with a...</td>\n",
       "      <td>433</td>\n",
       "      <td>1737638792</td>\n",
       "    </tr>\n",
       "    <tr>\n",
       "      <th>...</th>\n",
       "      <td>...</td>\n",
       "      <td>...</td>\n",
       "      <td>...</td>\n",
       "      <td>...</td>\n",
       "      <td>...</td>\n",
       "    </tr>\n",
       "    <tr>\n",
       "      <th>1293</th>\n",
       "      <td>3400089734716372598</td>\n",
       "      <td>558170</td>\n",
       "      <td>Professor Takeuchi Shoji and his team at the U...</td>\n",
       "      <td>960</td>\n",
       "      <td>1719542704</td>\n",
       "    </tr>\n",
       "    <tr>\n",
       "      <th>1294</th>\n",
       "      <td>3477270611237986745</td>\n",
       "      <td>1091359</td>\n",
       "      <td>Researchers from Apple have published a paper ...</td>\n",
       "      <td>1533</td>\n",
       "      <td>1728742980</td>\n",
       "    </tr>\n",
       "    <tr>\n",
       "      <th>1307</th>\n",
       "      <td>3508189984752805672</td>\n",
       "      <td>3629345432</td>\n",
       "      <td>Americas’s Got Talent contestant shape-shifts ...</td>\n",
       "      <td>20292</td>\n",
       "      <td>1732428875</td>\n",
       "    </tr>\n",
       "    <tr>\n",
       "      <th>1313</th>\n",
       "      <td>3255473374343925603</td>\n",
       "      <td>1687848</td>\n",
       "      <td>Hello, JournalismThreads friends, after 30 yea...</td>\n",
       "      <td>140</td>\n",
       "      <td>1702302689</td>\n",
       "    </tr>\n",
       "    <tr>\n",
       "      <th>1328</th>\n",
       "      <td>3540969202544619461</td>\n",
       "      <td>48141252304</td>\n",
       "      <td>2024 recap của mình~\\r\\n- 5.0 GPA ở MIT 🫶\\r\\n-...</td>\n",
       "      <td>4539</td>\n",
       "      <td>1736336456</td>\n",
       "    </tr>\n",
       "  </tbody>\n",
       "</table>\n",
       "<p>735 rows × 5 columns</p>\n",
       "</div>"
      ],
      "text/plain": [
       "                       pk      user_pk  \\\n",
       "0     3555273435077793954    187264532   \n",
       "2     3549657636672820072   3312160968   \n",
       "3     3501933029318498859    623659295   \n",
       "4     3485889418840696337   6018955246   \n",
       "5     3551894091232159864  71440324623   \n",
       "...                   ...          ...   \n",
       "1293  3400089734716372598       558170   \n",
       "1294  3477270611237986745      1091359   \n",
       "1307  3508189984752805672   3629345432   \n",
       "1313  3255473374343925603      1687848   \n",
       "1328  3540969202544619461  48141252304   \n",
       "\n",
       "                                                caption  like_count  \\\n",
       "0     My son has a good point.\\r\\nWhy are we calling...         107   \n",
       "2     Unto the next ⚜️🚀\\r\\n\\r\\nMSc. Artificial Intel...        1474   \n",
       "3     I’m tryna be Ms. 4 degrees!\\r\\n\\r\\nBS In Manag...        1203   \n",
       "4     I’m not AI, artificial intelligence.\\r\\nMy rea...        1396   \n",
       "5     I’ve never used artificial intelligence with a...         433   \n",
       "...                                                 ...         ...   \n",
       "1293  Professor Takeuchi Shoji and his team at the U...         960   \n",
       "1294  Researchers from Apple have published a paper ...        1533   \n",
       "1307  Americas’s Got Talent contestant shape-shifts ...       20292   \n",
       "1313  Hello, JournalismThreads friends, after 30 yea...         140   \n",
       "1328  2024 recap của mình~\\r\\n- 5.0 GPA ở MIT 🫶\\r\\n-...        4539   \n",
       "\n",
       "        taken_at  \n",
       "0     1738041642  \n",
       "2     1737372186  \n",
       "3     1731682970  \n",
       "4     1729770422  \n",
       "5     1737638792  \n",
       "...          ...  \n",
       "1293  1719542704  \n",
       "1294  1728742980  \n",
       "1307  1732428875  \n",
       "1313  1702302689  \n",
       "1328  1736336456  \n",
       "\n",
       "[735 rows x 5 columns]"
      ]
     },
     "execution_count": 36,
     "metadata": {},
     "output_type": "execute_result"
    }
   ],
   "source": [
    "dfdati[dfdati[\"user_pk\"].isin(list(users))]"
   ]
  }
 ],
 "metadata": {
  "kernelspec": {
   "display_name": "Python 3",
   "language": "python",
   "name": "python3"
  },
  "language_info": {
   "codemirror_mode": {
    "name": "ipython",
    "version": 3
   },
   "file_extension": ".py",
   "mimetype": "text/x-python",
   "name": "python",
   "nbconvert_exporter": "python",
   "pygments_lexer": "ipython3",
   "version": "3.12.7"
  }
 },
 "nbformat": 4,
 "nbformat_minor": 2
}

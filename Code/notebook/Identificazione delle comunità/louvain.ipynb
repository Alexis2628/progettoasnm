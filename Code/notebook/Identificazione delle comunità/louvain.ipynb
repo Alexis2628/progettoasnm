{
 "cells": [
  {
   "cell_type": "code",
   "execution_count": 1,
   "metadata": {},
   "outputs": [
    {
     "name": "stdout",
     "output_type": "stream",
     "text": [
      "Clustering con metodo Louvain completato! Grafo esportato in: graph_with_louvain_clusters.gml\n"
     ]
    }
   ],
   "source": [
    "import sys\n",
    "import networkx as nx\n",
    "from community import community_louvain\n",
    "\n",
    "import sys\n",
    "project_path = os.getcwd().split(\"Code\")[0]\n",
    "sys.path.append(project_path)\n",
    "\n",
    "# Importa la classe GraphConstructor\n",
    "from Code.notebook.graph.GraphConstructor import GraphConstructor\n",
    "\n",
    "def louvain_clustering(graph):\n",
    "    \"\"\"\n",
    "    Cluster a graph using the Louvain method.\n",
    "    \n",
    "    Parameters:\n",
    "        graph (networkx.Graph): Il grafo da analizzare.\n",
    "        \n",
    "    Returns:\n",
    "        dict: Un dizionario dove le chiavi sono i nodi e i valori sono gli ID delle comunità.\n",
    "    \"\"\"\n",
    "    # Applica il metodo Louvain per il rilevamento delle comunità\n",
    "    return community_louvain.best_partition(graph)\n",
    "\n",
    "# Crea il grafo utilizzando GraphConstructor\n",
    "graph_builder = GraphConstructor()\n",
    "graph_builder.build_graph()\n",
    "graph = graph_builder.graph\n",
    "\n",
    "# Converte il grafo in un grafo non diretto\n",
    "graph = graph.to_undirected()\n",
    "\n",
    "# Esegui il clustering con il metodo Louvain\n",
    "louvain_partition = louvain_clustering(graph)\n",
    "\n",
    "# Copia il grafo originale per assegnare i cluster\n",
    "gr = graph.copy()\n",
    "\n",
    "# Rimuove tutti gli attributi esistenti dai nodi\n",
    "for node in gr.nodes():\n",
    "    gr.nodes[node].clear()\n",
    "\n",
    "# Assegna i cluster come attributo dei nodi\n",
    "for node, cluster in louvain_partition.items():\n",
    "    gr.nodes[node]['cluster'] = cluster\n",
    "\n",
    "# Esporta il grafo in formato GML\n",
    "output_path = \"graph_with_louvain_clusters.gml\"\n",
    "nx.write_gml(gr, output_path)\n",
    "\n",
    "print(f\"Clustering con metodo Louvain completato! Grafo esportato in: {output_path}\")\n"
   ]
  }
 ],
 "metadata": {
  "kernelspec": {
   "display_name": "Python 3",
   "language": "python",
   "name": "python3"
  },
  "language_info": {
   "codemirror_mode": {
    "name": "ipython",
    "version": 3
   },
   "file_extension": ".py",
   "mimetype": "text/x-python",
   "name": "python",
   "nbconvert_exporter": "python",
   "pygments_lexer": "ipython3",
   "version": "3.12.8"
  }
 },
 "nbformat": 4,
 "nbformat_minor": 2
}

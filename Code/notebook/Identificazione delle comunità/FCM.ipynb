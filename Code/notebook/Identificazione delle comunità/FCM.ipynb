{
 "cells": [
  {
   "cell_type": "code",
   "execution_count": 1,
   "metadata": {},
   "outputs": [
    {
     "name": "stdout",
     "output_type": "stream",
     "text": [
      "Defaulting to user installation because normal site-packages is not writeable\n",
      "Requirement already satisfied: scikit-fuzzy in c:\\users\\carcu\\appdata\\local\\packages\\pythonsoftwarefoundation.python.3.12_qbz5n2kfra8p0\\localcache\\local-packages\\python312\\site-packages (0.5.0)\n"
     ]
    }
   ],
   "source": [
    "!pip install scikit-fuzzy"
   ]
  },
  {
   "cell_type": "code",
   "execution_count": 2,
   "metadata": {},
   "outputs": [
    {
     "name": "stdout",
     "output_type": "stream",
     "text": [
      "Clustering con Fuzzy C-means completato! Grafo esportato in: graph_with_fcm_clusters.gml\n"
     ]
    }
   ],
   "source": [
    "import sys\n",
    "project_path = os.getcwd().split(\"Code\")[0]\n",
    "sys.path.append(project_path)\n",
    "import numpy as np\n",
    "import networkx as nx\n",
    "import skfuzzy as fuzz\n",
    "from Code.notebook.graph.GraphConstructor import GraphConstructor\n",
    "\n",
    "# Funzione per eseguire Fuzzy C-means (FCM)\n",
    "def fuzzy_c_means(graph, num_clusters):\n",
    "    \"\"\"\n",
    "    Esegue Fuzzy C-means sul grafo per raggruppare i nodi in base alla loro appartenenza a più cluster.\n",
    "    \n",
    "    Args:\n",
    "        graph (networkx.Graph): Il grafo su cui eseguire il clustering.\n",
    "        num_clusters (int): Numero di cluster desiderati.\n",
    "    \n",
    "    Returns:\n",
    "        dict: Un dizionario con il grado di appartenenza di ciascun nodo a ciascun cluster.\n",
    "    \"\"\"\n",
    "    # Estrai la matrice di adiacenza come feature\n",
    "    adjacency_matrix = nx.to_numpy_array(graph)\n",
    "    \n",
    "    # Trasformiamo la matrice di adiacenza in un array di distanze (per usare FCM)\n",
    "    distance_matrix = np.max(adjacency_matrix) - adjacency_matrix  # Invertiamo la matrice di adiacenza per ottenere una matrice di distanze\n",
    "    \n",
    "    # Esegui Fuzzy C-means sulla matrice di distanze\n",
    "    cntr, u, _, _, _, _, _ = fuzz.cluster.cmeans(distance_matrix.T, num_clusters, 2, error=0.005, maxiter=1000)\n",
    "    \n",
    "    # Restituisci i gradi di appartenenza per ciascun nodo\n",
    "    # u contiene i gradi di appartenenza, i nodi sono associati tramite l'ordine degli indici\n",
    "    membership = {node: u[:, i].tolist() for i, node in enumerate(graph.nodes)}  # Modifica questa riga\n",
    "    \n",
    "    return membership, cntr\n",
    "\n",
    "# Crea il grafo utilizzando GraphConstructor\n",
    "graph_builder = GraphConstructor()\n",
    "graph_builder.build_graph()\n",
    "graph = graph_builder.graph\n",
    "\n",
    "# Numero di cluster desiderati\n",
    "num_clusters = 3\n",
    "\n",
    "# Esegui il clustering con Fuzzy C-means\n",
    "fcm_membership, fcm_centers = fuzzy_c_means(graph, num_clusters)\n",
    "\n",
    "# Copia il grafo originale per assegnare i cluster\n",
    "gr = graph.copy()\n",
    "\n",
    "# Assegna l'appartenenza \"maggioritaria\" a ciascun nodo\n",
    "for node, membership_values in fcm_membership.items():\n",
    "    # Troviamo il cluster con il valore di appartenenza massimo\n",
    "    dominant_cluster = np.argmax(membership_values)  # Ottieni l'indice del cluster con il valore massimo\n",
    "    gr.nodes[node]['cluster'] = dominant_cluster  # Assegniamo il cluster maggioritario al nodo\n",
    "\n",
    "# Funzione per sanitizzare attributi e chiavi\n",
    "def sanitize_graph_attributes(graph):\n",
    "    \"\"\"\n",
    "    Sanitizza le chiavi e gli attributi del grafo per renderli compatibili con il formato GML.\n",
    "    \"\"\"\n",
    "    for node in graph.nodes:\n",
    "        attrs = graph.nodes[node]\n",
    "        sanitized_attrs = {}\n",
    "        for key, value in attrs.items():\n",
    "            new_key = str(key).replace(\" \", \"_\").replace(\"-\", \"_\")  # Rimpiazza spazi e trattini\n",
    "            sanitized_attrs[new_key] = str(value) if not isinstance(value, str) else value\n",
    "        graph.nodes[node].clear()\n",
    "        graph.nodes[node].update(sanitized_attrs)\n",
    "    \n",
    "    for u, v, attrs in graph.edges(data=True):\n",
    "        sanitized_attrs = {}\n",
    "        for key, value in attrs.items():\n",
    "            new_key = str(key).replace(\" \", \"_\").replace(\"-\", \"_\")\n",
    "            sanitized_attrs[new_key] = str(value) if not isinstance(value, str) else value\n",
    "        graph.edges[u, v].clear()\n",
    "        graph.edges[u, v].update(sanitized_attrs)\n",
    "\n",
    "# Applica la sanitizzazione al grafo\n",
    "sanitize_graph_attributes(gr)\n",
    "\n",
    "# Esporta il grafo in formato GML\n",
    "output_path = \"graph_with_fcm_clusters.gml\"\n",
    "nx.write_gml(gr, output_path)\n",
    "\n",
    "print(f\"Clustering con Fuzzy C-means completato! Grafo esportato in: {output_path}\")\n"
   ]
  }
 ],
 "metadata": {
  "kernelspec": {
   "display_name": "Python 3",
   "language": "python",
   "name": "python3"
  },
  "language_info": {
   "codemirror_mode": {
    "name": "ipython",
    "version": 3
   },
   "file_extension": ".py",
   "mimetype": "text/x-python",
   "name": "python",
   "nbconvert_exporter": "python",
   "pygments_lexer": "ipython3",
   "version": "3.12.8"
  }
 },
 "nbformat": 4,
 "nbformat_minor": 2
}

{
 "cells": [
  {
   "cell_type": "code",
   "execution_count": 1,
   "metadata": {},
   "outputs": [
    {
     "name": "stdout",
     "output_type": "stream",
     "text": [
      "Defaulting to user installation because normal site-packages is not writeable\n",
      "Requirement already satisfied: networkx in c:\\users\\carcu\\appdata\\local\\packages\\pythonsoftwarefoundation.python.3.12_qbz5n2kfra8p0\\localcache\\local-packages\\python312\\site-packages (3.4.2)\n"
     ]
    }
   ],
   "source": [
    "!pip install networkx"
   ]
  },
  {
   "cell_type": "code",
   "execution_count": 1,
   "metadata": {},
   "outputs": [],
   "source": [
    "import sys\n",
    "import os\n",
    "import networkx as nx\n",
    "from collections import Counter\n",
    "project_path = os.getcwd().split(\"Code\")[0]\n",
    "sys.path.append(project_path)\n",
    "\n",
    "# Importa la classe GraphConstructor\n",
    "from Code.notebook.graph.GraphConstructor import GraphConstructor\n",
    "\n",
    "# Funzione per eseguire il clustering con Label Propagation\n",
    "def label_propagation_clustering(graph):\n",
    "    \"\"\"\n",
    "    Esegue il clustering sul grafo utilizzando l'algoritmo di Label Propagation.\n",
    "    \n",
    "    Args:\n",
    "        graph (networkx.Graph): Il grafo su cui eseguire il clustering.\n",
    "    \n",
    "    Returns:\n",
    "        dict: Un dizionario con l'etichetta del cluster per ciascun nodo.\n",
    "    \"\"\"\n",
    "    # Converti il grafo in un grafo non diretto\n",
    "    undirected_graph = graph.to_undirected()\n",
    "    \n",
    "    # Applica l'algoritmo di Label Propagation\n",
    "    communities = nx.algorithms.community.label_propagation_communities(undirected_graph)\n",
    "    \n",
    "    # Crea un dizionario dei cluster associando i nodi alle comunità\n",
    "    cluster_labels = {}\n",
    "    for cluster_id, community in enumerate(communities):\n",
    "        for node in community:\n",
    "            cluster_labels[node] = cluster_id\n",
    "            \n",
    "    return cluster_labels\n",
    "\n",
    "# Funzione per sanitizzare gli attributi del grafo (nodi e archi)\n",
    "def sanitize_graph_attributes(graph):\n",
    "    \"\"\"\n",
    "    Sanitizza le chiavi e i valori degli attributi dei nodi e degli archi\n",
    "    per renderli compatibili con il formato GML.\n",
    "    \"\"\"\n",
    "    for node in graph.nodes:\n",
    "        attrs = graph.nodes[node]\n",
    "        sanitized_attrs = {}\n",
    "        for key, value in attrs.items():\n",
    "            # Rimpiazza spazi e trattini nei nomi delle chiavi\n",
    "            new_key = str(key).replace(\" \", \"_\").replace(\"-\", \"_\")\n",
    "            # Converte tutti i valori in stringhe\n",
    "            sanitized_attrs[new_key] = str(value) if not isinstance(value, str) else value\n",
    "        graph.nodes[node].clear()\n",
    "        graph.nodes[node].update(sanitized_attrs)\n",
    "\n",
    "    for u, v, attrs in graph.edges(data=True):\n",
    "        sanitized_attrs = {}\n",
    "        for key, value in attrs.items():\n",
    "            # Rimpiazza spazi e trattini nei nomi delle chiavi\n",
    "            new_key = str(key).replace(\" \", \"_\").replace(\"-\", \"_\")\n",
    "            # Converte tutti i valori in stringhe\n",
    "            sanitized_attrs[new_key] = str(value) if not isinstance(value, str) else value\n",
    "        graph.edges[u, v].clear()\n",
    "        graph.edges[u, v].update(sanitized_attrs)\n",
    "\n",
    "# Crea il grafo utilizzando GraphConstructor\n",
    "graph_builder = GraphConstructor()\n",
    "graph_builder.build_graph()\n",
    "graph = graph_builder.graph\n",
    "\n",
    "# Esegui il clustering con Label Propagation\n",
    "lp_labels = label_propagation_clustering(graph)\n",
    "\n",
    "# Copia il grafo originale per assegnare i cluster\n",
    "gr = graph.copy()\n",
    "\n",
    "# Assegna il cluster a ciascun nodo\n",
    "for node, label in lp_labels.items():\n",
    "    gr.nodes[node]['cluster'] = label  # Assegniamo l'etichetta del cluster al nodo\n",
    "\n",
    "# Sanitizza gli attributi del grafo prima di esportarlo\n",
    "sanitize_graph_attributes(gr)\n",
    "\n",
    "# Esporta il grafo in formato GML\n",
    "output_path = \"graph_with_label_propagation_clusters.gml\"\n",
    "nx.write_gml(gr, output_path)\n"
   ]
  }
 ],
 "metadata": {
  "kernelspec": {
   "display_name": "Python 3",
   "language": "python",
   "name": "python3"
  },
  "language_info": {
   "codemirror_mode": {
    "name": "ipython",
    "version": 3
   },
   "file_extension": ".py",
   "mimetype": "text/x-python",
   "name": "python",
   "nbconvert_exporter": "python",
   "pygments_lexer": "ipython3",
   "version": "3.12.8"
  }
 },
 "nbformat": 4,
 "nbformat_minor": 2
}

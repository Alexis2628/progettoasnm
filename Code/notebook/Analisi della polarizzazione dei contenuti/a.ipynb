{
 "cells": [
  {
   "cell_type": "code",
   "execution_count": 1,
   "metadata": {},
   "outputs": [
    {
     "name": "stderr",
     "output_type": "stream",
     "text": [
      "[nltk_data] Downloading package stopwords to\n",
      "[nltk_data]     C:\\Users\\pasqua\\AppData\\Roaming\\nltk_data...\n",
      "[nltk_data]   Package stopwords is already up-to-date!\n",
      "[nltk_data] Downloading package punkt_tab to\n",
      "[nltk_data]     C:\\Users\\pasqua\\AppData\\Roaming\\nltk_data...\n",
      "[nltk_data]   Package punkt_tab is already up-to-date!\n",
      "c:\\Users\\pasqua\\AppData\\Local\\Programs\\Python\\Python311\\Lib\\site-packages\\tqdm\\auto.py:21: TqdmWarning: IProgress not found. Please update jupyter and ipywidgets. See https://ipywidgets.readthedocs.io/en/stable/user_install.html\n",
      "  from .autonotebook import tqdm as notebook_tqdm\n"
     ]
    }
   ],
   "source": [
    "import logging\n",
    "import sys\n",
    "import os\n",
    "sys.path.append(r\"C:\\Users\\pasqu\\Desktop\\progettoasnm\")\n",
    "sys.path.append(r\"C:\\Users\\pasqua\\Desktop\\progettoasnm\")\n",
    "\n",
    "from Code.notebook.graph.GraphConstructor import GraphConstructor\n",
    "from preprocessing.text_preprocessor import TextPreprocessor\n",
    "from models.clustering import Clustering\n",
    "from visualization.cluster_visualizer import ClusterVisualizer\n",
    "from models.sentiment_analysis import SentimentAnalyzer\n",
    "from visualization.sentiment_visualizer import SentimentVisualizer\n",
    "from visualization.wordcloud_visualizer import WordCloudVisualizer\n",
    "from visualization.lda_visualizer import LDAViz\n",
    "from models.topic_modeling import TopicModeling"
   ]
  },
  {
   "cell_type": "code",
   "execution_count": 2,
   "metadata": {},
   "outputs": [],
   "source": [
    "logging.info(\"Inizio del processo principale.\")\n",
    "output_dir = r\"../../../Code/notebook//Analisi della polarizzazione dei contenuti//output\"\n",
    "# Costruzione del grafo\n",
    "graph_builder = GraphConstructor(\n",
    "        followers_paths= [\"../../data_extraction/followers.csv\"],\n",
    "        data_paths = [\"../../data_extraction/total_post1.csv\", \"../../data_extraction/total_post2.csv\", \"../../data_extraction/total_post3.csv\"],\n",
    "        info_filepath=\"graph_info.json\",\n",
    "        centralities_filepath=\"centralities_info.json\",\n",
    "    )\n",
    "graph_builder.build_graph()\n",
    "graph = graph_builder.graph\n",
    "\n",
    "# # Estrazione e pre-elaborazione dei testi\n",
    "preprocessor = TextPreprocessor()\n",
    "user_opinions = preprocessor.extract_user_opinions(graph_builder)"
   ]
  },
  {
   "cell_type": "code",
   "execution_count": 3,
   "metadata": {},
   "outputs": [
    {
     "name": "stderr",
     "output_type": "stream",
     "text": [
      "c:\\Users\\pasqua\\Desktop\\progettoasnm\\Code\\notebook\\Analisi della polarizzazione dei contenuti\\models\\sentiment_analysis.py:41: DeprecationWarning: DataFrameGroupBy.apply operated on the grouping columns. This behavior is deprecated, and in a future version of pandas the grouping columns will be excluded from the operation. Either pass `include_groups=False` to exclude the groupings or explicitly select the grouping columns after groupby to silence this warning.\n",
      "  sentiment_scores = df_data.groupby(\"thread_user_pk\").apply(\n"
     ]
    }
   ],
   "source": [
    "sentiment_scores = SentimentAnalyzer().extract_sentiments_from_graph(graph_builder)"
   ]
  },
  {
   "cell_type": "code",
   "execution_count": 19,
   "metadata": {},
   "outputs": [],
   "source": [
    "# Clustering\n",
    "clustering = Clustering(cluster_file=\"output/cluster_labels.pkl\")\n",
    "cluster_labels = clustering.cluster(user_opinions, method=\"dbscan\")"
   ]
  },
  {
   "cell_type": "code",
   "execution_count": 21,
   "metadata": {},
   "outputs": [],
   "source": [
    "# Visualizzazione dei cluster\n",
    "cluster_visualizer = ClusterVisualizer(output_dir=output_dir)\n",
    "cluster_visualizer.visualize(user_opinions, cluster_labels)"
   ]
  },
  {
   "cell_type": "code",
   "execution_count": 28,
   "metadata": {},
   "outputs": [],
   "source": [
    "# Visualizzazione del sentiment\n",
    "sentiment_visualizer = SentimentVisualizer(output_dir=output_dir)\n",
    "# Visualizza la distribuzione del sentiment\n",
    "sentiment_visualizer.visualize_sentiment_distribution(\n",
    "sentiment_scores, cluster_labels\n",
    ")\n",
    "\n",
    "# Visualizza la mappa di calore sentiment vs temi\n",
    "sentiment_visualizer.visualize_sentiment_vs_themes_heatmap(\n",
    "sentiment_scores, user_opinions, cluster_labels\n",
    ")"
   ]
  },
  {
   "cell_type": "code",
   "execution_count": 29,
   "metadata": {},
   "outputs": [],
   "source": [
    "polarizing_words = clustering.identify_polarizing_themes(\n",
    "user_opinions, cluster_labels\n",
    ")\n",
    "wordcloud_visualizer = WordCloudVisualizer()\n",
    "wordcloud_visualizer.visualize(polarizing_words, output_dir, \"Un\")\n",
    "\n",
    "# BiGram\n",
    "polarizing_words = clustering.identify_polarizing_themes_bigram(\n",
    "user_opinions, cluster_labels\n",
    ")\n",
    "wordcloud_visualizer.visualize(polarizing_words, output_dir, \"Bi\")\n"
   ]
  },
  {
   "cell_type": "code",
   "execution_count": null,
   "metadata": {},
   "outputs": [],
   "source": [
    "# # Topic Modeling\n",
    "topic_modeling = TopicModeling()\n",
    "lda_model, dictionary, corpus = topic_modeling.perform_topic_modeling(\n",
    "user_opinions, len(set(cluster_labels.values()))\n",
    ")\n",
    "\n",
    "# Visualizzazione dei temi\n",
    "lda_visualizer = LDAViz()\n",
    "lda_visualizer.visualize(lda_model, corpus, dictionary, output_dir=output_dir)\n",
    "\n",
    "logging.info(\"Processo principale completato.\")"
   ]
  }
 ],
 "metadata": {
  "kernelspec": {
   "display_name": "Python 3",
   "language": "python",
   "name": "python3"
  },
  "language_info": {
   "codemirror_mode": {
    "name": "ipython",
    "version": 3
   },
   "file_extension": ".py",
   "mimetype": "text/x-python",
   "name": "python",
   "nbconvert_exporter": "python",
   "pygments_lexer": "ipython3",
   "version": "3.11.0"
  }
 },
 "nbformat": 4,
 "nbformat_minor": 2
}
